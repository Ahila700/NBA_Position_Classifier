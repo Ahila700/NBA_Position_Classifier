{
 "cells": [
  {
   "cell_type": "code",
   "execution_count": 1,
   "metadata": {},
   "outputs": [],
   "source": [
    "import pandas as pd\n",
    "import numpy as np\n",
    "\n",
    "import requests\n",
    "\n",
    "import re\n",
    "import string\n",
    "\n",
    "from py_ball import league, image, boxscore, player\n",
    "\n",
    "# static lists to get players and teams\n",
    "from nba_api.stats.static import players\n",
    "from nba_api.stats.static import teams\n",
    "\n",
    "# endpoints to get the list of players on every team and shot chart for each player\n",
    "from nba_api.stats.endpoints import shotchartdetail\n",
    "from nba_api.stats.endpoints import teamplayerdashboard\n",
    "\n",
    "# getting nba defensive statistics\n",
    "from nba_api.stats.endpoints import boxscoredefensive\n",
    "from nba_api.stats.endpoints import defensehub\n",
    "from nba_api.stats.endpoints import leaguedashptdefend\n",
    "from nba_api.stats.endpoints import playerdashptshotdefend\n",
    "from nba_api.stats.endpoints import boxscoretraditionalv2\n",
    "\n",
    "\n",
    "# getting nba player info for their position\n",
    "from nba_api.stats.endpoints import commonplayerinfo\n",
    "from nba_api.stats.endpoints import leaguedashplayerstats\n",
    "from nba_api.stats.endpoints import playerdashboardbyyearoveryear\n",
    "\n",
    "HEADERS = {'Connection': 'keep-alive',\n",
    "           'Host': 'stats.nba.com',\n",
    "           'Origin': 'http://stats.nba.com',\n",
    "           'Upgrade-Insecure-Requests': '1',\n",
    "           'Referer': 'stats.nba.com',\n",
    "           'x-nba-stats-origin': 'stats',\n",
    "           'x-nba-stats-token': 'true',\n",
    "           'Accept-Language': 'en-US,en;q=0.9',\n",
    "           \"X-NewRelic-ID\": \"VQECWF5UChAHUlNTBwgBVw==\",\n",
    "           'User-Agent': 'Mozilla/5.0 (Macintosh; Intel Mac OS X 10_14_6)' +\\\n",
    "                         ' AppleWebKit/537.36 (KHTML, like Gecko)' + \\\n",
    "                         ' Chrome/81.0.4044.129 Safari/537.36'}"
   ]
  },
  {
   "cell_type": "code",
   "execution_count": null,
   "metadata": {},
   "outputs": [],
   "source": []
  },
  {
   "cell_type": "markdown",
   "metadata": {},
   "source": [
    "## Finding all the made shots for each player from each game for the 2019/20 nba season\n"
   ]
  },
  {
   "cell_type": "code",
   "execution_count": 2,
   "metadata": {},
   "outputs": [],
   "source": [
    "# importing a dictionary of the nba teams to get a list of the team ids\n",
    "\n",
    "teams_dict = teams.get_teams()"
   ]
  },
  {
   "cell_type": "code",
   "execution_count": 3,
   "metadata": {},
   "outputs": [],
   "source": [
    "# obtaining list of team ideas for each team in the team dictionary\n",
    "\n",
    "team_ids = [team['id'] for team in teams_dict]"
   ]
  },
  {
   "cell_type": "code",
   "execution_count": null,
   "metadata": {},
   "outputs": [],
   "source": []
  },
  {
   "cell_type": "code",
   "execution_count": 4,
   "metadata": {},
   "outputs": [],
   "source": [
    "# creating an empty list to store the dataframes of players\n",
    "\n",
    "df_list = []"
   ]
  },
  {
   "cell_type": "code",
   "execution_count": 5,
   "metadata": {},
   "outputs": [],
   "source": [
    "# looping through each team id in the list of team ids\n",
    "for team in team_ids:\n",
    "    \n",
    "    # obtaining the dashboard of the teams with all the active players and their stats\n",
    "    team_players = teamplayerdashboard.TeamPlayerDashboard(team, season = '2019-20')\n",
    "\n",
    "    # using that list to grab the player ids from every player on every team\n",
    "    player_ids = team_players.players_season_totals.get_data_frame().PLAYER_ID\n",
    "\n",
    "    # looping through all the players on every team\n",
    "    for player_id in player_ids:\n",
    "\n",
    "        # getting the shot chart object from the nba api for each player using the team id and the player id\n",
    "        shot_chart = shotchartdetail.ShotChartDetail(team, player_id)\n",
    "\n",
    "        # turning that shot chart object into a dataframe\n",
    "        shot_chart_df = shot_chart.get_data_frames()[0]\n",
    "\n",
    "        # changing the dates into a datetime to grab the games from 2019-2020, then setting that as the index\n",
    "        shot_chart_df['GAME_DATE'] = pd.to_datetime(shot_chart_df['GAME_DATE'], format = '%Y%m%d', errors = 'ignore')\n",
    "        shot_chart_df.set_index('GAME_DATE', inplace = True)\n",
    "\n",
    "        # locating only games for the 2019/20 nba season\n",
    "        shot_chart_2020 = shot_chart_df.loc['2019-10-22':'2020-03-11']\n",
    "\n",
    "        # appending it to a list to later concat into a single DataFrame\n",
    "        df_list.append(shot_chart_2020)"
   ]
  },
  {
   "cell_type": "code",
   "execution_count": null,
   "metadata": {},
   "outputs": [],
   "source": []
  },
  {
   "cell_type": "code",
   "execution_count": null,
   "metadata": {},
   "outputs": [],
   "source": []
  },
  {
   "cell_type": "code",
   "execution_count": 6,
   "metadata": {},
   "outputs": [],
   "source": [
    "# concating the list of dataframes into a single dataframe\n",
    "\n",
    "df = pd.concat(df_list)"
   ]
  },
  {
   "cell_type": "code",
   "execution_count": null,
   "metadata": {},
   "outputs": [],
   "source": []
  },
  {
   "cell_type": "code",
   "execution_count": 7,
   "metadata": {},
   "outputs": [],
   "source": [
    "# storing that in a csv\n",
    "\n",
    "df.to_csv('csv_files/2019-20_nba_shot_charts.csv')"
   ]
  },
  {
   "cell_type": "code",
   "execution_count": null,
   "metadata": {},
   "outputs": [],
   "source": []
  },
  {
   "cell_type": "markdown",
   "metadata": {},
   "source": [
    "# Cleaning the NBA shot charts to the amount of made shots for each shooting location"
   ]
  },
  {
   "cell_type": "markdown",
   "metadata": {},
   "source": [
    "## Messing with the data to try and get an idea of court locations"
   ]
  },
  {
   "cell_type": "markdown",
   "metadata": {},
   "source": [
    "For x and y location, 10 units in the LOC_X or LOC_Y value is equal to 1 ft on the court. \n",
    "\n",
    "-250, -50 = left corner\n",
    "\n",
    "250, -50 = right corner\n",
    "\n",
    "0, 238 = top of the key (any value for LOC_Y that is 238 or higher would be great)\n",
    "\n",
    "Shot Areas: \n",
    "\n",
    "### 3 Pointers\n",
    "\n",
    "X(-250 to -220) & Y(-50 to 87) = left corner 3\n",
    "\n",
    "X(220 to 250) & Y(-50 to 87) = right corner 3\n",
    "\n",
    "X(-250 to -80) & Y(87 to 280) & Shot_zone(above the break) = left wing 3\n",
    "\n",
    "X(80 to 250) & Y(87 to 280) & Shot_zone(above the break) = right wing 3\n",
    "\n",
    "X(-80 to 80) and Y(87 to 280) & Shot_zone(above the break) = Center 3\n",
    "\n",
    "X(any) and Y(280 to 350) = Deep 3\n",
    "\n",
    "X(any) and Y(350+) = Heave\n",
    "\n",
    "### Mid Range \n",
    "\n",
    "X(-220 to -150) & Y(-50 to 90) = left baseline deep midrange\n",
    "\n",
    "X(150 to 220) & Y(-50 to 90) = right baseline deep midrange\n",
    "\n",
    "((X(-220 to 150) & Y(90+)) & (X(-150 to 80) & Y(150+))) & Shotzone(Mid-Range) = left wing deep mid ranger\n",
    "\n",
    "((X(150 to 220) & Y(90+)) & (X(80 to 150) & Y(150+))) & Shotzone(Mid-Range) = right wing deep mid ranger\n",
    "\n",
    "X(-150 to -80) & Y(-50 to 90) = short left baseline midranger\n",
    "\n",
    "X(80 to 150) & Y(-50 to 90) = short right baseline midranger\n",
    "\n",
    "X(-150 to -80) & Y(90 to 150) = short left wing mid ranger\n",
    "\n",
    "X(80 to 150) & Y(90 to 150) = short right wing mid ranger\n",
    "\n",
    "X(-80 to 80) & Y(210+) & Shotzone(Mid-Range) = deep center midranger\n",
    "\n",
    "X(-80 to 80) & Y(150 to 210) = short center midrange\n",
    "\n",
    "### Paint\n",
    "\n",
    "X(-80 to 80) & Y(90 to 150) = Floater\n",
    "\n",
    "X(-80 to 80) & Y(-50) & Shotzone(In The Paint (Non-RA)) = layup/in the paint\n",
    "\n",
    "Shotzone(restricted area) = restricted area"
   ]
  },
  {
   "cell_type": "code",
   "execution_count": null,
   "metadata": {},
   "outputs": [],
   "source": []
  },
  {
   "cell_type": "markdown",
   "metadata": {},
   "source": [
    "## Organizing the data and using the function to group the data in the format i am looking for"
   ]
  },
  {
   "cell_type": "code",
   "execution_count": 20,
   "metadata": {},
   "outputs": [],
   "source": [
    "df.PLAYER_ID = pd.to_numeric(df.PLAYER_ID)"
   ]
  },
  {
   "cell_type": "code",
   "execution_count": 21,
   "metadata": {},
   "outputs": [],
   "source": [
    "# Creating a new df with just the players and the year they played as the index, only \n",
    "# included the player id in case it was necessary to concat into the future\n",
    "\n",
    "players_df = df.groupby('PLAYER_NAME')['PLAYER_ID'].mean().to_frame()"
   ]
  },
  {
   "cell_type": "code",
   "execution_count": null,
   "metadata": {},
   "outputs": [],
   "source": []
  },
  {
   "cell_type": "code",
   "execution_count": null,
   "metadata": {},
   "outputs": [],
   "source": []
  },
  {
   "cell_type": "code",
   "execution_count": 22,
   "metadata": {},
   "outputs": [],
   "source": [
    "# dataframe needs to be in the format of the shot chart data that is provided by the nba api\n",
    "\n",
    "from mod_5_functions import shooting_positions"
   ]
  },
  {
   "cell_type": "code",
   "execution_count": 23,
   "metadata": {},
   "outputs": [],
   "source": [
    "# running the function which returns the amount of shots made for each player for each position, so i need to set\n",
    "# the output of the function to all of the different positions on the court\n",
    "\n",
    "left_corner_3, right_corner_3, left_wing_3, right_wing_3, center_3, deep_3,heave, left_baseline_deep_2, right_baseline_deep_2, left_wing_deep_2, right_wing_deep_2, left_baseline_short_2, right_baseline_short_2, left_wing_short_2, right_wing_short_2, deep_center_2, short_center_2, floater_range, in_the_paint, restricted_area = shooting_positions(df)\n"
   ]
  },
  {
   "cell_type": "code",
   "execution_count": 24,
   "metadata": {
    "collapsed": true
   },
   "outputs": [
    {
     "name": "stderr",
     "output_type": "stream",
     "text": [
      "/Users/antoniohila/opt/anaconda3/lib/python3.7/site-packages/ipykernel_launcher.py:7: FutureWarning: Sorting because non-concatenation axis is not aligned. A future version\n",
      "of pandas will change to not sort by default.\n",
      "\n",
      "To accept the future behavior, pass 'sort=False'.\n",
      "\n",
      "To retain the current behavior and silence the warning, pass 'sort=True'.\n",
      "\n",
      "  import sys\n"
     ]
    }
   ],
   "source": [
    "# taking all of those values, as well as the player names and concating them to a single dataframe\n",
    "\n",
    "player_shot_profile = pd.concat([players_df, left_corner_3, right_corner_3, left_wing_3, right_wing_3, center_3,\n",
    "                                 deep_3,heave, left_baseline_deep_2, right_baseline_deep_2, left_wing_deep_2, \n",
    "                                 right_wing_deep_2, left_baseline_short_2, right_baseline_short_2, left_wing_short_2,\n",
    "                                 right_wing_short_2, deep_center_2, short_center_2, floater_range, in_the_paint, \n",
    "                                 restricted_area], axis = 1)\n",
    "\n"
   ]
  },
  {
   "cell_type": "code",
   "execution_count": 26,
   "metadata": {},
   "outputs": [],
   "source": [
    "# taking the na values, areas where players didnt have a single shot (big men and 3s) and replacing them with 0s\n",
    "\n",
    "player_shot_profile.fillna(0, inplace = True)"
   ]
  },
  {
   "cell_type": "code",
   "execution_count": 27,
   "metadata": {},
   "outputs": [],
   "source": [
    "# saving it to a csv file\n",
    "\n",
    "player_shot_profile.to_csv('csv_files/Player_comparison_Shot_Profiles.csv')"
   ]
  },
  {
   "cell_type": "code",
   "execution_count": null,
   "metadata": {},
   "outputs": [],
   "source": []
  },
  {
   "cell_type": "code",
   "execution_count": null,
   "metadata": {},
   "outputs": [],
   "source": []
  },
  {
   "cell_type": "code",
   "execution_count": null,
   "metadata": {},
   "outputs": [],
   "source": []
  },
  {
   "cell_type": "markdown",
   "metadata": {},
   "source": [
    "## Getting Defensive statistics through py_ball\n",
    "\n",
    "This worked but only gave me data for over 500 players, this is due to the fact that there is no defensive tracking data available for older players. So i decided to keep it out of the classification model for now and just stick to the offensive stats, will use this for the similarity models i will run later on"
   ]
  },
  {
   "cell_type": "code",
   "execution_count": 28,
   "metadata": {},
   "outputs": [],
   "source": [
    "# getting a list of unique players to loop through and get their defensive stats\n",
    "\n",
    "unique_players = df.PLAYER_ID.unique()"
   ]
  },
  {
   "cell_type": "code",
   "execution_count": null,
   "metadata": {},
   "outputs": [],
   "source": []
  },
  {
   "cell_type": "code",
   "execution_count": 29,
   "metadata": {},
   "outputs": [],
   "source": [
    "# looping through all the different players to get the dataframe of their defensive shot \n",
    "# location metrics and store the dataframe to a list (this only works for the newer players)\n",
    "\n",
    "defensive_shooting = []\n",
    "\n",
    "league_id = '00'\n",
    "\n",
    "for ids in unique_players:\n",
    "    \n",
    "    # saving the data as the defense object in pyball for each player \n",
    "    defense = player.Player(headers = HEADERS, endpoint = 'playerdashptshotdefend', \n",
    "                           league_id = league_id, player_id = ids)\n",
    "    \n",
    "    # storing the data in the defensive shooting list\n",
    "    defensive_shooting.append(pd.DataFrame(defense.data['DefendingShots']))\n"
   ]
  },
  {
   "cell_type": "code",
   "execution_count": null,
   "metadata": {},
   "outputs": [],
   "source": []
  },
  {
   "cell_type": "code",
   "execution_count": 30,
   "metadata": {},
   "outputs": [],
   "source": [
    "# concating the list of dataframes into a single dataframe\n",
    "\n",
    "defensive_shots_df = pd.concat(defensive_shooting)"
   ]
  },
  {
   "cell_type": "code",
   "execution_count": 31,
   "metadata": {},
   "outputs": [],
   "source": [
    "# storing into a csv\n",
    "\n",
    "defensive_shots_df.to_csv('csv_files/defensive_shooting_by_player.csv')"
   ]
  },
  {
   "cell_type": "code",
   "execution_count": null,
   "metadata": {},
   "outputs": [],
   "source": []
  },
  {
   "cell_type": "code",
   "execution_count": null,
   "metadata": {},
   "outputs": [],
   "source": []
  },
  {
   "cell_type": "markdown",
   "metadata": {},
   "source": [
    "# Cleaning the Defensive Statistics"
   ]
  },
  {
   "cell_type": "markdown",
   "metadata": {},
   "source": [
    "### Even though i didnt end up using the defensive stats for the mvp presentation i still want to use it for my my similarty matrix going into the future so i wanted to clean up the data and get it in the format that makes the most sense. So i end up breaking it down similary to the shot charts by creating dummies for each category. Then multiplying that category by the players defensive scores and grouping by the player so in the end i just have a row with a specific player and his defensive shooting numbers in every single category."
   ]
  },
  {
   "cell_type": "code",
   "execution_count": null,
   "metadata": {},
   "outputs": [],
   "source": []
  },
  {
   "cell_type": "code",
   "execution_count": 32,
   "metadata": {},
   "outputs": [],
   "source": [
    "# removing the overall as i want to look at each area individually\n",
    "\n",
    "defensive_shots_df = defensive_shots_df[defensive_shots_df['DEFENSE_CATEGORY'] != 'Overall']"
   ]
  },
  {
   "cell_type": "code",
   "execution_count": 33,
   "metadata": {},
   "outputs": [],
   "source": [
    "#replacing the name of the column for player id to match the other ones\n",
    "\n",
    "defensive_shots_df.rename(columns = {'CLOSE_DEF_PERSON_ID': 'PLAYER_ID'}, inplace = True)"
   ]
  },
  {
   "cell_type": "code",
   "execution_count": 34,
   "metadata": {},
   "outputs": [],
   "source": [
    "# reset index so it goes from 1 to the end instead of going by 5s and then dropping the old index column\n",
    "\n",
    "defensive_shots_df.reset_index(inplace = True)\n",
    "defensive_shots_df.drop(columns = 'index', inplace = True)"
   ]
  },
  {
   "cell_type": "code",
   "execution_count": null,
   "metadata": {},
   "outputs": [],
   "source": []
  },
  {
   "cell_type": "code",
   "execution_count": 35,
   "metadata": {},
   "outputs": [],
   "source": [
    "# creating dummy columns of the different defensive shot locations\n",
    "\n",
    "shot_defense_dummies = pd.get_dummies(defensive_shots_df['DEFENSE_CATEGORY'], prefix = 'def')"
   ]
  },
  {
   "cell_type": "code",
   "execution_count": 36,
   "metadata": {},
   "outputs": [],
   "source": [
    "# concating the dummies with the original\n",
    "\n",
    "full_df = pd.concat([defensive_shots_df, shot_defense_dummies], axis = 1)"
   ]
  },
  {
   "cell_type": "code",
   "execution_count": null,
   "metadata": {},
   "outputs": [],
   "source": []
  },
  {
   "cell_type": "code",
   "execution_count": 37,
   "metadata": {},
   "outputs": [],
   "source": [
    "# for each of the dummies i want to get the actual value for the different categories im looking at so i .multiply all of them\n",
    "# by the specific value i want and set that to a new column in the data frame\n",
    "\n",
    "full_df[['def_2 Pointers_freq','def_3 Pointers_freq', 'def_Greater_Than_15_Ft_freq', 'def_Less_Than_10_Ft_freq', 'def_Less_Than_6_Ft_freq']] = full_df[['def_2 Pointers','def_3 Pointers', 'def_Greater Than 15 Ft', 'def_Less Than 10 Ft', 'def_Less Than 6 Ft']].multiply(full_df['FREQ'], axis = 'index')\n",
    "full_df[['def_2 Pointers_dfgm','def_3 Pointers_dfgm', 'def_Greater_Than_15_Ft_dfgm', 'def_Less_Than_10_Ft_dfgm', 'def_Less_Than_6_Ft_dfgm']] = full_df[['def_2 Pointers','def_3 Pointers', 'def_Greater Than 15 Ft', 'def_Less Than 10 Ft', 'def_Less Than 6 Ft']].multiply(full_df['D_FGM'], axis = 'index')\n",
    "full_df[['def_2 Pointers_dfga','def_3 Pointers_dfga', 'def_Greater_Than_15_Ft_dfga', 'def_Less_Than_10_Ft_dfga', 'def_Less_Than_6_Ft_dfga']] = full_df[['def_2 Pointers','def_3 Pointers', 'def_Greater Than 15 Ft', 'def_Less Than 10 Ft', 'def_Less Than 6 Ft']].multiply(full_df['D_FGA'], axis = 'index')\n",
    "full_df[['def_2 Pointers_plus_minus','def_3 Pointers_plus_minus', 'def_Greater_Than_15_Ft_plus_minus', 'def_Less_Than_10_Ft_plus_minus', 'def_Less_Than_6_Ft_plus_minus']] = full_df[['def_2 Pointers','def_3 Pointers', 'def_Greater Than 15 Ft', 'def_Less Than 10 Ft', 'def_Less Than 6 Ft']].multiply(full_df['PCT_PLUSMINUS'], axis = 'index')"
   ]
  },
  {
   "cell_type": "code",
   "execution_count": 38,
   "metadata": {},
   "outputs": [
    {
     "data": {
      "text/plain": [
       "Index(['PLAYER_ID', 'GP', 'G', 'DEFENSE_CATEGORY', 'FREQ', 'D_FGM', 'D_FGA',\n",
       "       'D_FG_PCT', 'NORMAL_FG_PCT', 'PCT_PLUSMINUS', 'def_2 Pointers',\n",
       "       'def_3 Pointers', 'def_Greater Than 15 Ft', 'def_Less Than 10 Ft',\n",
       "       'def_Less Than 6 Ft', 'def_2 Pointers_freq', 'def_3 Pointers_freq',\n",
       "       'def_Greater_Than_15_Ft_freq', 'def_Less_Than_10_Ft_freq',\n",
       "       'def_Less_Than_6_Ft_freq', 'def_2 Pointers_dfgm', 'def_3 Pointers_dfgm',\n",
       "       'def_Greater_Than_15_Ft_dfgm', 'def_Less_Than_10_Ft_dfgm',\n",
       "       'def_Less_Than_6_Ft_dfgm', 'def_2 Pointers_dfga', 'def_3 Pointers_dfga',\n",
       "       'def_Greater_Than_15_Ft_dfga', 'def_Less_Than_10_Ft_dfga',\n",
       "       'def_Less_Than_6_Ft_dfga', 'def_2 Pointers_plus_minus',\n",
       "       'def_3 Pointers_plus_minus', 'def_Greater_Than_15_Ft_plus_minus',\n",
       "       'def_Less_Than_10_Ft_plus_minus', 'def_Less_Than_6_Ft_plus_minus'],\n",
       "      dtype='object')"
      ]
     },
     "execution_count": 38,
     "metadata": {},
     "output_type": "execute_result"
    }
   ],
   "source": [
    "# checking the columns to see what needs to be dropped and kept\n",
    "\n",
    "full_df.columns"
   ]
  },
  {
   "cell_type": "code",
   "execution_count": 39,
   "metadata": {},
   "outputs": [],
   "source": [
    "# dropping unnecessary columns\n",
    "\n",
    "full_df.drop(columns = [ 'GP', 'G', 'DEFENSE_CATEGORY', 'FREQ', 'D_FGM', 'D_FGA', 'D_FG_PCT', 'NORMAL_FG_PCT', \n",
    "                        'PCT_PLUSMINUS', 'def_2 Pointers', 'def_3 Pointers', 'def_Greater Than 15 Ft', \n",
    "                        'def_Less Than 10 Ft', 'def_Less Than 6 Ft'], inplace = True)"
   ]
  },
  {
   "cell_type": "code",
   "execution_count": 40,
   "metadata": {},
   "outputs": [],
   "source": [
    "# grouping by the individual player so now i have a dataframe with just the player id and the dummy columns i wanted \n",
    "# of different defensive statistics in the 5 different areas of the court\n",
    "\n",
    "defensive_shooting = full_df.groupby('PLAYER_ID').sum()"
   ]
  },
  {
   "cell_type": "code",
   "execution_count": 41,
   "metadata": {},
   "outputs": [],
   "source": [
    "# to csv\n",
    "\n",
    "defensive_shooting.to_csv('csv_files/defensive_stats_for_new_players.csv')"
   ]
  },
  {
   "cell_type": "code",
   "execution_count": null,
   "metadata": {
    "scrolled": true
   },
   "outputs": [],
   "source": []
  },
  {
   "cell_type": "markdown",
   "metadata": {},
   "source": [
    "## Merging the defensive stats and the shooting Stats"
   ]
  },
  {
   "cell_type": "code",
   "execution_count": 47,
   "metadata": {},
   "outputs": [],
   "source": [
    "#resetting index to keep the player names as they will be used later on to concat with the basketball reference data\n",
    "\n",
    "player_shot_profile.reset_index(inplace = True)\n",
    "player_shot_profile.rename(columns = {'index': 'Player'}, inplace = True)"
   ]
  },
  {
   "cell_type": "code",
   "execution_count": 56,
   "metadata": {},
   "outputs": [],
   "source": [
    "player_stats = pd.merge(defensive_shooting, player_shot_profile, on = 'PLAYER_ID')"
   ]
  },
  {
   "cell_type": "markdown",
   "metadata": {},
   "source": [
    "#### Because the defensive stats are so much harder to get there were only 316 players from the possible 497 that had both shooting data and defensive data, for now i will stick to it but likely will just use the player shot profile and basic stats as well later to see if it does better"
   ]
  },
  {
   "cell_type": "code",
   "execution_count": null,
   "metadata": {},
   "outputs": [],
   "source": []
  },
  {
   "cell_type": "code",
   "execution_count": null,
   "metadata": {},
   "outputs": [],
   "source": []
  },
  {
   "cell_type": "markdown",
   "metadata": {},
   "source": [
    "## Getting basic stats from the players for the 2019-20 nba season"
   ]
  },
  {
   "cell_type": "code",
   "execution_count": 74,
   "metadata": {},
   "outputs": [],
   "source": [
    "# Getting player data from the 2020 season, dropping duplicates because the players have individual stats for each\n",
    "# team they were on for that season, so i just want the total for the year, regardless of team\n",
    "\n",
    "player_bios = pd.read_html('https://www.basketball-reference.com/leagues/NBA_2020_per_game.html')[0].drop_duplicates(keep = 'first')\n",
    "\n",
    "# dropping all the unnecessary columns that i do not want to use in the final data\n",
    "player_bios.drop(columns = ['Rk', 'Age', 'Tm', 'G', 'GS', 'MP', 'FG', 'FGA', 'FG%', '3P', '3PA', \n",
    "                            '2P', '2PA', 'eFG%', 'FT', 'FTA', 'FT%', 'TRB'], inplace = True)\n",
    "\n",
    "# dropping every 20 rows which shows the column names again (from the website)\n",
    "player_bios = player_bios[player_bios['Player'] != 'Player']\n",
    "\n",
    "# changing the values from strings to all numeric values\n",
    "player_bios = player_bios.apply(pd.to_numeric, errors = 'ignore')\n"
   ]
  },
  {
   "cell_type": "code",
   "execution_count": 78,
   "metadata": {},
   "outputs": [],
   "source": [
    "# fixing the multiple position players using knowledge of the game to pick their positions\n",
    "\n",
    "positions = []\n",
    "\n",
    "for x in player_bios.Pos:\n",
    "    if x == 'SF-SG':\n",
    "        positions.append('SF')\n",
    "    elif x == 'C-PF':\n",
    "        positions.append('PF')\n",
    "    elif x == 'SF-PF':\n",
    "        positions.append('PF')\n",
    "    elif x == 'PF-SF':\n",
    "        positions.append('SF')\n",
    "    else:\n",
    "        positions.append(x)"
   ]
  },
  {
   "cell_type": "code",
   "execution_count": 81,
   "metadata": {},
   "outputs": [],
   "source": [
    "# replacing the players positions with the new list that doesnt have have duplicates\n",
    "\n",
    "player_bios.Pos = positions"
   ]
  },
  {
   "cell_type": "code",
   "execution_count": null,
   "metadata": {},
   "outputs": [],
   "source": []
  },
  {
   "cell_type": "markdown",
   "metadata": {},
   "source": [
    "## Concating the basketball reference player bios with the shooting stats"
   ]
  },
  {
   "cell_type": "code",
   "execution_count": 84,
   "metadata": {},
   "outputs": [],
   "source": [
    "# applying the cleaning for both of the dataframes.\n",
    "# the punctuation replacment is for both, the special characters are mostly for the basketball reference players\n",
    "\n",
    "def clean_names(name):\n",
    "    name = re.sub('[%s]' % re.escape(string.punctuation), '', name)\n",
    "    name = re.sub('ć', 'c', name)\n",
    "    name = re.sub('Ć', 'C', name)\n",
    "    name = re.sub('Ž', 'Z', name)\n",
    "    name = re.sub('č', 'c', name)\n",
    "    name = re.sub('Č', 'C', name)\n",
    "    return name\n",
    "\n",
    "# creating an object that applys the cleaning function to all of the rows of a column instead of on the column\n",
    "cleaning = lambda x: clean_names(x)"
   ]
  },
  {
   "cell_type": "code",
   "execution_count": 94,
   "metadata": {},
   "outputs": [],
   "source": [
    "# applying the cleaner to both the shot charts/defensive stats from nba_api and basketball reference\n",
    "\n",
    "player_stats['Player'] = pd.DataFrame(player_stats.Player.apply(cleaning))\n",
    "player_bios['Player'] = pd.DataFrame(player_bios.Player.apply(cleaning))"
   ]
  },
  {
   "cell_type": "code",
   "execution_count": null,
   "metadata": {},
   "outputs": [],
   "source": []
  },
  {
   "cell_type": "code",
   "execution_count": 89,
   "metadata": {},
   "outputs": [],
   "source": [
    "# merging the 2 dataframes on the player column \n",
    "\n",
    "all_stats = pd.merge(player_stats, player_bios, on = 'Player')"
   ]
  },
  {
   "cell_type": "code",
   "execution_count": 92,
   "metadata": {},
   "outputs": [],
   "source": [
    "# filling any remaining na values with 0s\n",
    "\n",
    "all_stats = all_stats.fillna(0)"
   ]
  },
  {
   "cell_type": "code",
   "execution_count": null,
   "metadata": {},
   "outputs": [],
   "source": []
  },
  {
   "cell_type": "code",
   "execution_count": 93,
   "metadata": {},
   "outputs": [],
   "source": [
    "all_stats.to_csv('csv_files/Player_comparison_df.csv')"
   ]
  },
  {
   "cell_type": "code",
   "execution_count": null,
   "metadata": {},
   "outputs": [],
   "source": []
  }
 ],
 "metadata": {
  "kernelspec": {
   "display_name": "Python 3",
   "language": "python",
   "name": "python3"
  },
  "language_info": {
   "codemirror_mode": {
    "name": "ipython",
    "version": 3
   },
   "file_extension": ".py",
   "mimetype": "text/x-python",
   "name": "python",
   "nbconvert_exporter": "python",
   "pygments_lexer": "ipython3",
   "version": "3.7.6"
  }
 },
 "nbformat": 4,
 "nbformat_minor": 4
}
