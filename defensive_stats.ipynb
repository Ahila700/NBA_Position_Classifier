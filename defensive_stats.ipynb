{
 "cells": [
  {
   "cell_type": "code",
   "execution_count": 1,
   "metadata": {},
   "outputs": [],
   "source": [
    "import pandas as pd\n",
    "import numpy as np"
   ]
  },
  {
   "cell_type": "code",
   "execution_count": null,
   "metadata": {},
   "outputs": [],
   "source": []
  },
  {
   "cell_type": "markdown",
   "metadata": {},
   "source": [
    "### Even though i didnt end up using the defensive stats for the mvp presentation i still want to use it for my my similarty matrix going into the future so i wanted to clean up the data and get it in the format that makes the most sense. So i end up breaking it down similary to the shot charts by creating dummies for each category. Then multiplying that category by the players defensive scores and grouping by the player so in the end i just have a row with a specific player and his defensive shooting numbers in every single category."
   ]
  },
  {
   "cell_type": "code",
   "execution_count": null,
   "metadata": {},
   "outputs": [],
   "source": []
  },
  {
   "cell_type": "code",
   "execution_count": 22,
   "metadata": {},
   "outputs": [],
   "source": [
    "# importing defensive stats\n",
    "\n",
    "df = pd.read_csv('csv_files/defensive_shooting_by_player.csv', index_col = 0)"
   ]
  },
  {
   "cell_type": "code",
   "execution_count": 62,
   "metadata": {},
   "outputs": [],
   "source": [
    "# removing the overall as i want to look at each area individually\n",
    "\n",
    "df = df[df['DEFENSE_CATEGORY'] != 'Overall']"
   ]
  },
  {
   "cell_type": "code",
   "execution_count": 24,
   "metadata": {},
   "outputs": [],
   "source": [
    "#replacing the name of the column for player id to match the other ones\n",
    "\n",
    "df.rename(columns = {'CLOSE_DEF_PERSON_ID': 'PLAYER_ID'}, inplace = True)"
   ]
  },
  {
   "cell_type": "code",
   "execution_count": 26,
   "metadata": {},
   "outputs": [],
   "source": [
    "# reset index so it goes from 1 to the end instead of going by 5s and then dropping the old index column\n",
    "\n",
    "df.reset_index(inplace = True)\n",
    "df.drop(columns = 'index', inplace = True)"
   ]
  },
  {
   "cell_type": "code",
   "execution_count": null,
   "metadata": {},
   "outputs": [],
   "source": []
  },
  {
   "cell_type": "code",
   "execution_count": 30,
   "metadata": {},
   "outputs": [],
   "source": [
    "# creating dummy columns of the different defensive shot locations\n",
    "\n",
    "shot_defense_dummies = pd.get_dummies(df['DEFENSE_CATEGORY'], prefix = 'def')"
   ]
  },
  {
   "cell_type": "code",
   "execution_count": 51,
   "metadata": {},
   "outputs": [],
   "source": [
    "# concating the dummies with the original\n",
    "\n",
    "full_df = pd.concat([df, shot_defense_dummies], axis = 1)"
   ]
  },
  {
   "cell_type": "code",
   "execution_count": null,
   "metadata": {},
   "outputs": [],
   "source": []
  },
  {
   "cell_type": "code",
   "execution_count": 52,
   "metadata": {},
   "outputs": [],
   "source": [
    "# for each of the dummies i want to get the actual value for the different categories im looking at so i .multiply all of them\n",
    "# by the specific value i want and set that to a new column in the data frame\n",
    "\n",
    "full_df[['def_2 Pointers_freq','def_3 Pointers_freq', 'def_Greater_Than_15_Ft_freq', 'def_Less_Than_10_Ft_freq', 'def_Less_Than_6_Ft_freq']] = full_df[['def_2 Pointers','def_3 Pointers', 'def_Greater Than 15 Ft', 'def_Less Than 10 Ft', 'def_Less Than 6 Ft']].multiply(full_df['FREQ'], axis = 'index')\n",
    "full_df[['def_2 Pointers_dfgm','def_3 Pointers_dfgm', 'def_Greater_Than_15_Ft_dfgm', 'def_Less_Than_10_Ft_dfgm', 'def_Less_Than_6_Ft_dfgm']] = full_df[['def_2 Pointers','def_3 Pointers', 'def_Greater Than 15 Ft', 'def_Less Than 10 Ft', 'def_Less Than 6 Ft']].multiply(full_df['D_FGM'], axis = 'index')\n",
    "full_df[['def_2 Pointers_dfga','def_3 Pointers_dfga', 'def_Greater_Than_15_Ft_dfga', 'def_Less_Than_10_Ft_dfga', 'def_Less_Than_6_Ft_dfga']] = full_df[['def_2 Pointers','def_3 Pointers', 'def_Greater Than 15 Ft', 'def_Less Than 10 Ft', 'def_Less Than 6 Ft']].multiply(full_df['D_FGA'], axis = 'index')\n",
    "full_df[['def_2 Pointers_plus_minus','def_3 Pointers_plus_minus', 'def_Greater_Than_15_Ft_plus_minus', 'def_Less_Than_10_Ft_plus_minus', 'def_Less_Than_6_Ft_plus_minus']] = full_df[['def_2 Pointers','def_3 Pointers', 'def_Greater Than 15 Ft', 'def_Less Than 10 Ft', 'def_Less Than 6 Ft']].multiply(full_df['PCT_PLUSMINUS'], axis = 'index')"
   ]
  },
  {
   "cell_type": "code",
   "execution_count": 53,
   "metadata": {},
   "outputs": [
    {
     "data": {
      "text/plain": [
       "Index(['PLAYER_ID', 'GP', 'G', 'DEFENSE_CATEGORY', 'FREQ', 'D_FGM', 'D_FGA',\n",
       "       'D_FG_PCT', 'NORMAL_FG_PCT', 'PCT_PLUSMINUS', 'def_2 Pointers',\n",
       "       'def_3 Pointers', 'def_Greater Than 15 Ft', 'def_Less Than 10 Ft',\n",
       "       'def_Less Than 6 Ft', 'def_2 Pointers_freq', 'def_3 Pointers_freq',\n",
       "       'def_Greater_Than_15_Ft_freq', 'def_Less_Than_10_Ft_freq',\n",
       "       'def_Less_Than_6_Ft_freq', 'def_2 Pointers_dfgm', 'def_3 Pointers_dfgm',\n",
       "       'def_Greater_Than_15_Ft_dfgm', 'def_Less_Than_10_Ft_dfgm',\n",
       "       'def_Less_Than_6_Ft_dfgm', 'def_2 Pointers_dfga', 'def_3 Pointers_dfga',\n",
       "       'def_Greater_Than_15_Ft_dfga', 'def_Less_Than_10_Ft_dfga',\n",
       "       'def_Less_Than_6_Ft_dfga', 'def_2 Pointers_plus_minus',\n",
       "       'def_3 Pointers_plus_minus', 'def_Greater_Than_15_Ft_plus_minus',\n",
       "       'def_Less_Than_10_Ft_plus_minus', 'def_Less_Than_6_Ft_plus_minus'],\n",
       "      dtype='object')"
      ]
     },
     "execution_count": 53,
     "metadata": {},
     "output_type": "execute_result"
    }
   ],
   "source": [
    "# checking the columns to see what needs to be dropped and kept\n",
    "\n",
    "full_df.columns"
   ]
  },
  {
   "cell_type": "code",
   "execution_count": 54,
   "metadata": {},
   "outputs": [],
   "source": [
    "# dropping unnecessary columns\n",
    "\n",
    "full_df.drop(columns = [ 'GP', 'G', 'DEFENSE_CATEGORY', 'FREQ', 'D_FGM', 'D_FGA', 'D_FG_PCT', 'NORMAL_FG_PCT', \n",
    "                        'PCT_PLUSMINUS', 'def_2 Pointers', 'def_3 Pointers', 'def_Greater Than 15 Ft', \n",
    "                        'def_Less Than 10 Ft', 'def_Less Than 6 Ft'], inplace = True)"
   ]
  },
  {
   "cell_type": "code",
   "execution_count": 60,
   "metadata": {},
   "outputs": [],
   "source": [
    "# grouping by the individual player so now i have a dataframe with just the player id and the dummy columns i wanted of \n",
    "# different defensive statistics in the 5 different areas of the court\n",
    "\n",
    "full_df_grouped = full_df.groupby('PLAYER_ID').sum()"
   ]
  },
  {
   "cell_type": "code",
   "execution_count": 61,
   "metadata": {},
   "outputs": [],
   "source": [
    "# to csv\n",
    "\n",
    "full_df_grouped.to_csv('csv_files/defensive_stats_for_new_players.csv')"
   ]
  },
  {
   "cell_type": "code",
   "execution_count": null,
   "metadata": {},
   "outputs": [],
   "source": []
  }
 ],
 "metadata": {
  "kernelspec": {
   "display_name": "Python 3",
   "language": "python",
   "name": "python3"
  },
  "language_info": {
   "codemirror_mode": {
    "name": "ipython",
    "version": 3
   },
   "file_extension": ".py",
   "mimetype": "text/x-python",
   "name": "python",
   "nbconvert_exporter": "python",
   "pygments_lexer": "ipython3",
   "version": "3.7.6"
  }
 },
 "nbformat": 4,
 "nbformat_minor": 4
}
