{
 "cells": [
  {
   "cell_type": "code",
   "execution_count": 9,
   "metadata": {},
   "outputs": [],
   "source": [
    "import pandas as pd\n",
    "import numpy as np"
   ]
  },
  {
   "cell_type": "code",
   "execution_count": null,
   "metadata": {},
   "outputs": [],
   "source": []
  },
  {
   "cell_type": "markdown",
   "metadata": {},
   "source": [
    "The goal of this notebook is to create the different features in the data for the model. I want to find the (x, y) coordinates of the court itself then seperate it into 13 different shooting locations\n",
    "\n",
    "- left corner 3, left wing 3, center 3, right wing 3, right corner 3\n",
    "- deep left baseline 2, deep left wing 2, deep center 2, deep right wing 2, deep right baseline 2\n",
    "- short left baseline 2, short left wing 2, short center 2, short right wing 2, short right baseline 2\n",
    "- floater range, layup and dunk (could make layup and dunk a single position\n",
    "- deep 3 (anything beyond 28 ft in theory)"
   ]
  },
  {
   "cell_type": "code",
   "execution_count": null,
   "metadata": {},
   "outputs": [],
   "source": []
  },
  {
   "cell_type": "code",
   "execution_count": 10,
   "metadata": {},
   "outputs": [],
   "source": [
    "df = pd.read_csv('2000-2020_shot_charts.csv', index_col = 'GAME_DATE')"
   ]
  },
  {
   "cell_type": "code",
   "execution_count": 11,
   "metadata": {},
   "outputs": [
    {
     "data": {
      "text/plain": [
       "(640705, 23)"
      ]
     },
     "execution_count": 11,
     "metadata": {},
     "output_type": "execute_result"
    }
   ],
   "source": [
    "df.shape"
   ]
  },
  {
   "cell_type": "markdown",
   "metadata": {},
   "source": [
    "# Messing with the data to try and get an idea of court locations"
   ]
  },
  {
   "cell_type": "code",
   "execution_count": 12,
   "metadata": {},
   "outputs": [
    {
     "data": {
      "text/plain": [
       "array(['Above the Break 3', 'Mid-Range'], dtype=object)"
      ]
     },
     "execution_count": 12,
     "metadata": {},
     "output_type": "execute_result"
    }
   ],
   "source": [
    "df[(df.LOC_Y >= 150) & (df.LOC_Y <= 237)].SHOT_ZONE_BASIC.unique()"
   ]
  },
  {
   "cell_type": "code",
   "execution_count": null,
   "metadata": {},
   "outputs": [],
   "source": []
  },
  {
   "cell_type": "code",
   "execution_count": 5,
   "metadata": {},
   "outputs": [
    {
     "data": {
      "text/plain": [
       "array(['Restricted Area', 'Right Corner 3', 'In The Paint (Non-RA)',\n",
       "       'Left Corner 3', 'Mid-Range', 'Above the Break 3', 'Backcourt'],\n",
       "      dtype=object)"
      ]
     },
     "execution_count": 5,
     "metadata": {},
     "output_type": "execute_result"
    }
   ],
   "source": [
    "df.SHOT_ZONE_BASIC.unique()"
   ]
  },
  {
   "cell_type": "markdown",
   "metadata": {},
   "source": [
    "For x and y location, 10 units in the LOC_X or LOC_Y value is equal to 1 ft on the court. \n",
    "\n",
    "-250, -50 = left corner\n",
    "\n",
    "250, -50 = right corner\n",
    "\n",
    "0, 238 = top of the key (any value for LOC_Y that is 238 or higher would be great)\n",
    "\n",
    "Shot Areas: \n",
    "\n",
    "### 3 Pointers\n",
    "\n",
    "X(-250 to -220) & Y(-50 to 87) = left corner 3\n",
    "\n",
    "X(220 to 250) & Y(-50 to 87) = right corner 3\n",
    "\n",
    "X(-250 to -80) & Y(87 to 280) & Shot_zone(above the break) = left wing 3\n",
    "\n",
    "X(80 to 250) & Y(87 to 280) & Shot_zone(above the break) = right wing 3\n",
    "\n",
    "X(-80 to 80) and Y(87 to 280) & Shot_zone(above the break) = Center 3\n",
    "\n",
    "X(any) and Y(280 to 350) = Deep 3\n",
    "\n",
    "X(any) and Y(350+) = Heave\n",
    "\n",
    "### Mid Range \n",
    "\n",
    "X(-220 to -150) & Y(-50 to 90) = left baseline deep midrange\n",
    "\n",
    "X(150 to 220) & Y(-50 to 90) = right baseline deep midrange\n",
    "\n",
    "((X(-220 to 150) & Y(90+)) & (X(-150 to 80) & Y(150+))) & Shotzone(Mid-Range) = left wing deep mid ranger\n",
    "\n",
    "((X(150 to 220) & Y(90+)) & (X(80 to 150) & Y(150+))) & Shotzone(Mid-Range) = right wing deep mid ranger\n",
    "\n",
    "X(-150 to -80) & Y(-50 to 90) = short left baseline midranger\n",
    "\n",
    "X(80 to 150) & Y(-50 to 90) = short right baseline midranger\n",
    "\n",
    "X(-150 to -80) & Y(90 to 150) = short left wing mid ranger\n",
    "\n",
    "X(80 to 150) & Y(90 to 150) = short right wing mid ranger\n",
    "\n",
    "X(-80 to 80) & Y(210+) & Shotzone(Mid-Range) = deep center midranger\n",
    "\n",
    "X(-80 to 80) & Y(150 to 210) = short center midrange\n",
    "\n",
    "### Paint\n",
    "\n",
    "X(-80 to 80) & Y(90 to 150) = Floater\n",
    "\n",
    "X(-80 to 80) & Y(-50) & Shotzone(In The Paint (Non-RA)) = layup/in the paint\n",
    "\n",
    "Shotzone(restricted area) = restricted area"
   ]
  },
  {
   "cell_type": "code",
   "execution_count": null,
   "metadata": {},
   "outputs": [],
   "source": []
  },
  {
   "cell_type": "markdown",
   "metadata": {},
   "source": [
    "## Trying to organize the data\n",
    "\n",
    "#### ran into a few issues, first the nba api is not returning missed shots so will need to work with just the made shot profiles and add on some shooting percentages from a different library\n",
    "\n",
    "#### secondly, due to issues with multi indexing and grouping by date, i need to use calendar year stats which is not ideal as the nba season goes from late october to mid april in most cases but it still gives good value in the data since it is being done for all players. "
   ]
  },
  {
   "cell_type": "code",
   "execution_count": 13,
   "metadata": {},
   "outputs": [],
   "source": [
    "# reset the index to be able to access the datetime again as a string to get the year for each player\n",
    "\n",
    "new_df = df.reset_index()"
   ]
  },
  {
   "cell_type": "code",
   "execution_count": 15,
   "metadata": {},
   "outputs": [],
   "source": [
    "# Creating a new df with just the players and the year they played as the index, only \n",
    "# included the player idin case it was necessary to concat into the future\n",
    "\n",
    "players_df = new_df.groupby('PLAYER_NAME')['PLAYER_ID'].mean().to_frame()\n"
   ]
  },
  {
   "cell_type": "code",
   "execution_count": null,
   "metadata": {},
   "outputs": [],
   "source": []
  },
  {
   "cell_type": "code",
   "execution_count": null,
   "metadata": {},
   "outputs": [],
   "source": []
  },
  {
   "cell_type": "code",
   "execution_count": 17,
   "metadata": {},
   "outputs": [],
   "source": [
    "left_corner_3 = new_df.loc[(new_df.LOC_X > -250) & (new_df.LOC_X <= -220) & (new_df.LOC_Y <= 87)].groupby('PLAYER_NAME')['LOC_X'].count().to_frame().rename(columns = {'LOC_X': 'left_corner_3'})\n",
    "\n",
    "right_corner_3 = new_df.loc[(new_df.LOC_X > 220) & (new_df.LOC_X <= 250) & (new_df.LOC_Y <= 87)].groupby('PLAYER_NAME')['LOC_X'].count().to_frame().rename(columns = {'LOC_X': 'right_corner_3'})\n",
    "        \n",
    "left_wing_3 = new_df.loc[(new_df.LOC_X > -250) & (new_df.LOC_X <= -80) & (new_df.LOC_Y > 87) & (new_df.LOC_Y <= 280) & (new_df.SHOT_ZONE_BASIC == 'Above the Break 3')].groupby('PLAYER_NAME')['LOC_X'].count().to_frame().rename(columns = {'LOC_X': 'left_wing_3'})\n",
    "\n",
    "right_wing_3 = new_df.loc[(new_df.LOC_X > 80) & (new_df.LOC_X <= 250) & (new_df.LOC_Y > 87) & (new_df.LOC_Y <= 280) & (new_df.SHOT_ZONE_BASIC == 'Above the Break 3')].groupby('PLAYER_NAME')['LOC_X'].count().to_frame().rename(columns = {'LOC_X': 'right_wing_3'})\n",
    "\n",
    "center_3 = new_df.loc[(new_df.LOC_X > -80) & (new_df.LOC_X <= 80) & (new_df.LOC_Y > 87) & (new_df.LOC_Y <= 280) & (new_df.SHOT_ZONE_BASIC == 'Above the Break 3')].groupby('PLAYER_NAME')['LOC_X'].count().to_frame().rename(columns = {'LOC_X': 'center_3'})\n",
    "\n",
    "deep_3 = new_df.loc[(new_df.LOC_Y > 280) & (new_df.LOC_Y <= 350)].groupby('PLAYER_NAME')['LOC_X'].count().to_frame().rename(columns = {'LOC_X': 'deep_3'})\n",
    "\n",
    "heave = new_df.loc[(new_df.LOC_Y > 350)].groupby('PLAYER_NAME')['LOC_X'].count().to_frame().rename(columns = {'LOC_X': 'heave'})\n",
    "\n",
    "left_baseline_deep_2 = new_df.loc[(new_df.LOC_X > -220) & (new_df.LOC_X <= -150) & (new_df.LOC_Y <= 87)].groupby('PLAYER_NAME')['LOC_X'].count().to_frame().rename(columns = {'LOC_X': 'left_baseline_deep_2'})\n",
    "\n",
    "right_baseline_deep_2 = new_df.loc[(new_df.LOC_X > 150) & (new_df.LOC_X <= 220) & (new_df.LOC_Y <= 87)].groupby('PLAYER_NAME')['LOC_X'].count().to_frame().rename(columns = {'LOC_X': 'right_baseline_deep_2'})\n",
    "\n",
    "left_wing_deep_2 = new_df.loc[((new_df.LOC_X > -220) & (new_df.LOC_X <= -150) & (new_df.LOC_Y > 87)) | (((new_df.LOC_X > -150) & (new_df.LOC_X <= -80) & (new_df.LOC_Y > 150)) & (new_df.SHOT_ZONE_BASIC == 'Mid-Range'))].groupby('PLAYER_NAME')['LOC_X'].count().to_frame().rename(columns = {'LOC_X': 'left_wing_deep_2'})\n",
    "\n",
    "right_wing_deep_2 = new_df.loc[(((new_df.LOC_X > 150) & (new_df.LOC_X <= 220) & (new_df.LOC_Y > 87)) | ((new_df.LOC_X > 800) & (new_df.LOC_X <= 150) & (new_df.LOC_Y > 150))) & (new_df.SHOT_ZONE_BASIC == 'Mid-Range')].groupby('PLAYER_NAME')['LOC_X'].count().to_frame().rename(columns = {'LOC_X': 'right_wing_deep_2'})\n",
    "\n",
    "left_baseline_short_2 = new_df.loc[(new_df.LOC_X > -150) & (new_df.LOC_X <= -80) & (new_df.LOC_Y <= 87)].groupby('PLAYER_NAME')['LOC_X'].count().to_frame().rename(columns = {'LOC_X': 'left_baseline_short_2'})\n",
    "\n",
    "right_baseline_short_2 = new_df.loc[(new_df.LOC_X > 80) & (new_df.LOC_X <= 150) & (new_df.LOC_Y <= 87)].groupby('PLAYER_NAME')['LOC_X'].count().to_frame().rename(columns = {'LOC_X': 'right_baseline_short_2'})\n",
    "\n",
    "left_wing_short_2 = new_df.loc[(new_df.LOC_X > -150) & (new_df.LOC_X <= -80) & (new_df.LOC_Y > 87) & (new_df.LOC_Y <= 150)].groupby('PLAYER_NAME')['LOC_X'].count().to_frame().rename(columns = {'LOC_X': 'left_wing_short_2'})\n",
    "\n",
    "right_wing_short_2 = new_df.loc[(new_df.LOC_X > 80) & (new_df.LOC_X <= 150) & (new_df.LOC_Y > 87) & (new_df.LOC_Y <= 150)].groupby('PLAYER_NAME')['LOC_X'].count().to_frame().rename(columns = {'LOC_X': 'right_wing_short_2'})\n",
    "\n",
    "deep_center_2 = new_df.loc[(new_df.LOC_X > -80) & (new_df.LOC_X <= 80) & (new_df.LOC_Y > 210) & (new_df.SHOT_ZONE_BASIC == 'Mid-Range')].groupby('PLAYER_NAME')['LOC_X'].count().to_frame().rename(columns = {'LOC_X': 'deep_center_2'})\n",
    "\n",
    "short_center_2 = new_df.loc[(new_df.LOC_X > -80) & (new_df.LOC_X <= 80) & (new_df.LOC_Y > 150) & (new_df.LOC_Y <= 210)].groupby('PLAYER_NAME')['LOC_X'].count().to_frame().rename(columns = {'LOC_X': 'short_center_2'})\n",
    "\n",
    "floater_range = new_df.loc[(new_df.LOC_X > -80) & (new_df.LOC_X <= 80) & (new_df.LOC_Y > 87) & (new_df.LOC_Y <= 150)].groupby('PLAYER_NAME')['LOC_X'].count().to_frame().rename(columns = {'LOC_X': 'floater_range'})\n",
    "\n",
    "in_the_paint = new_df.loc[(new_df.LOC_X > -80) & (new_df.LOC_X <= 80) & (new_df.LOC_Y <= 87) & (new_df.SHOT_ZONE_BASIC == 'In The Paint (Non-RA)')].groupby('PLAYER_NAME')['LOC_X'].count().to_frame().rename(columns = {'LOC_X': 'in_the_paint'})\n",
    "\n",
    "restricted_area = new_df.loc[(new_df.SHOT_ZONE_BASIC  == 'Restricted Area')].groupby('PLAYER_NAME')['LOC_X'].count().to_frame().rename(columns = {'LOC_X': 'restricted_area'})\n"
   ]
  },
  {
   "cell_type": "code",
   "execution_count": 18,
   "metadata": {},
   "outputs": [],
   "source": [
    "player_shot_profile = pd.concat([players_df, left_corner_3, right_corner_3, left_wing_3, right_wing_3, center_3,\n",
    "                                 deep_3,heave, left_baseline_deep_2, right_baseline_deep_2, left_wing_deep_2, \n",
    "                                 right_wing_deep_2, left_baseline_short_2, right_baseline_short_2, left_wing_short_2,\n",
    "                                 right_wing_short_2, deep_center_2, short_center_2, floater_range, in_the_paint, \n",
    "                                 restricted_area], axis = 1)\n",
    "\n"
   ]
  },
  {
   "cell_type": "code",
   "execution_count": 19,
   "metadata": {},
   "outputs": [],
   "source": [
    "player_shot_profile.fillna(0, inplace = True)"
   ]
  },
  {
   "cell_type": "code",
   "execution_count": 20,
   "metadata": {},
   "outputs": [],
   "source": [
    "player_shot_profile.to_csv('Shot_Profiles.csv')"
   ]
  },
  {
   "cell_type": "code",
   "execution_count": null,
   "metadata": {},
   "outputs": [],
   "source": []
  }
 ],
 "metadata": {
  "kernelspec": {
   "display_name": "Python 3",
   "language": "python",
   "name": "python3"
  },
  "language_info": {
   "codemirror_mode": {
    "name": "ipython",
    "version": 3
   },
   "file_extension": ".py",
   "mimetype": "text/x-python",
   "name": "python",
   "nbconvert_exporter": "python",
   "pygments_lexer": "ipython3",
   "version": "3.7.6"
  }
 },
 "nbformat": 4,
 "nbformat_minor": 4
}
