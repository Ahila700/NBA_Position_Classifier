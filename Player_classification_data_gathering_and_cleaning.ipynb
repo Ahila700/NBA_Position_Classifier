{
 "cells": [
  {
   "cell_type": "code",
   "execution_count": 1,
   "metadata": {
    "scrolled": true
   },
   "outputs": [],
   "source": [
    "import pandas as pd\n",
    "import numpy as np\n",
    "\n",
    "import requests\n",
    "\n",
    "import re\n",
    "import string\n",
    "\n",
    "from py_ball import league, image, boxscore, player\n",
    "\n",
    "# static lists to get players and teams\n",
    "from nba_api.stats.static import players\n",
    "from nba_api.stats.static import teams\n",
    "\n",
    "# endpoints to get the list of players on every team and shot chart for each player\n",
    "from nba_api.stats.endpoints import shotchartdetail\n",
    "from nba_api.stats.endpoints import teamplayerdashboard\n",
    "\n",
    "# getting nba defensive statistics\n",
    "from nba_api.stats.endpoints import boxscoredefensive\n",
    "from nba_api.stats.endpoints import defensehub\n",
    "from nba_api.stats.endpoints import leaguedashptdefend\n",
    "from nba_api.stats.endpoints import playerdashptshotdefend\n",
    "from nba_api.stats.endpoints import boxscoretraditionalv2\n",
    "\n",
    "\n",
    "# getting nba player info for their position\n",
    "from nba_api.stats.endpoints import commonplayerinfo\n",
    "from nba_api.stats.endpoints import leaguedashplayerstats\n",
    "from nba_api.stats.endpoints import playerdashboardbyyearoveryear\n",
    "\n",
    "HEADERS = {'Connection': 'keep-alive',\n",
    "           'Host': 'stats.nba.com',\n",
    "           'Origin': 'http://stats.nba.com',\n",
    "           'Upgrade-Insecure-Requests': '1',\n",
    "           'Referer': 'stats.nba.com',\n",
    "           'x-nba-stats-origin': 'stats',\n",
    "           'x-nba-stats-token': 'true',\n",
    "           'Accept-Language': 'en-US,en;q=0.9',\n",
    "           \"X-NewRelic-ID\": \"VQECWF5UChAHUlNTBwgBVw==\",\n",
    "           'User-Agent': 'Mozilla/5.0 (Macintosh; Intel Mac OS X 10_14_6)' +\\\n",
    "                         ' AppleWebKit/537.36 (KHTML, like Gecko)' + \\\n",
    "                         ' Chrome/81.0.4044.129 Safari/537.36'}"
   ]
  },
  {
   "cell_type": "code",
   "execution_count": null,
   "metadata": {},
   "outputs": [],
   "source": []
  },
  {
   "cell_type": "markdown",
   "metadata": {},
   "source": [
    "## Finding all shot charts for all players from 1999-00 season to present"
   ]
  },
  {
   "cell_type": "code",
   "execution_count": 2,
   "metadata": {},
   "outputs": [],
   "source": [
    "# importing a dictionary of the nba teams to get a list of the team ids\n",
    "\n",
    "teams_dict = teams.get_teams()"
   ]
  },
  {
   "cell_type": "code",
   "execution_count": 3,
   "metadata": {},
   "outputs": [],
   "source": [
    "# obtaining list of team ideas for each team in the team dictionary\n",
    "\n",
    "team_ids = [team['id'] for team in teams_dict]"
   ]
  },
  {
   "cell_type": "code",
   "execution_count": null,
   "metadata": {},
   "outputs": [],
   "source": []
  },
  {
   "cell_type": "code",
   "execution_count": null,
   "metadata": {},
   "outputs": [],
   "source": []
  },
  {
   "cell_type": "code",
   "execution_count": null,
   "metadata": {},
   "outputs": [],
   "source": [
    "# getting a list of all the nba seasons from 1999-00 season to present\n",
    "\n",
    "seasons = ['2019-20', '2018-19', '2017-18', '2016-17', '2015-16', '2014-15', '2013-14',\n",
    "           '2012-13', '2011-12', '2010-11', '2009-10', '2008-09', '2007-08', '2006-07', \n",
    "           '2005-06', '2004-05', '2003-04', '2002-03', '2001-02', '2000-01', '1999-00']"
   ]
  },
  {
   "cell_type": "code",
   "execution_count": null,
   "metadata": {},
   "outputs": [],
   "source": []
  },
  {
   "cell_type": "code",
   "execution_count": null,
   "metadata": {},
   "outputs": [],
   "source": [
    "# list to append all the dataframes of player shot charts to\n",
    "all_seasons_list = []\n",
    "\n",
    "# list to store player ids so the same player isnt used more than once\n",
    "used_players = []\n",
    "\n",
    "\n",
    "# looping through each team id in the list of team ids\n",
    "for team in team_ids:\n",
    "    \n",
    "    # looping through each season to grab the players from the team in that season\n",
    "    for season in seasons:\n",
    "        \n",
    "        try:\n",
    "            # obtaining the dashboard of the teams with all the active players and their stats\n",
    "            team_players = teamplayerdashboard.TeamPlayerDashboard(team, season = season)\n",
    "\n",
    "            # using that list to grab the player ids from every player on every team\n",
    "            player_ids = team_players.players_season_totals.get_data_frame().PLAYER_ID\n",
    "            \n",
    "            # looping through all the players on every team\n",
    "            for player_id in player_ids:\n",
    "                \n",
    "                if player_id not in used_players:\n",
    "                    \n",
    "                    # getting the shot chart object from nba api for each player using team id and player id\n",
    "                    shot_chart = shotchartdetail.ShotChartDetail(team, player_id)\n",
    "\n",
    "                    # turning that shot chart object into a dataframe\n",
    "                    shot_chart_df = shot_chart.get_data_frames()[0]\n",
    "\n",
    "                    # changing the dates into a datetime to grab the games from 2019-2020, then setting that as the index\n",
    "                    shot_chart_df['GAME_DATE'] = pd.to_datetime(shot_chart_df['GAME_DATE'], format = '%Y%m%d', errors = 'ignore')\n",
    "                    shot_chart_df.set_index('GAME_DATE', inplace = True)\n",
    "\n",
    "                    # locating only games for the 2019/20 nba season\n",
    "                    shot_chart_all = shot_chart_df.loc['1999-11-02':'2020-03-11']\n",
    "                    \n",
    "                    # appending it to a list to later concat into a single DataFrame\n",
    "                    all_seasons_list.append(shot_chart_all)\n",
    "                    \n",
    "                    # appending the player id to store and not use again in case it comes up for another team\n",
    "                    used_players.append(player_id)\n",
    "                    \n",
    "                else:\n",
    "                    pass\n",
    "                \n",
    "        except JSONDecodeError:\n",
    "            pass"
   ]
  },
  {
   "cell_type": "code",
   "execution_count": null,
   "metadata": {},
   "outputs": [],
   "source": []
  },
  {
   "cell_type": "code",
   "execution_count": null,
   "metadata": {},
   "outputs": [],
   "source": [
    "# concating the list of dataframes into a single dataframe\n",
    "\n",
    "all_seasons = pd.concat(all_seasons_list)"
   ]
  },
  {
   "cell_type": "code",
   "execution_count": null,
   "metadata": {},
   "outputs": [],
   "source": []
  },
  {
   "cell_type": "code",
   "execution_count": null,
   "metadata": {},
   "outputs": [],
   "source": [
    "# saving to a csv\n",
    "\n",
    "all_seasons.to_csv('csv_files/2000-2020_shot_charts.csv')"
   ]
  },
  {
   "cell_type": "markdown",
   "metadata": {},
   "source": [
    "This gave me an issue as it only output the made shots so i used this temporarily for my data but later took just the game ids to use with the py_ball library which gave all the shots i wanted. Will eventually be doing the same for the 2019-20 season when comparing players later on. \n",
    "\n",
    "ended up sticking with this as the length of the process to gather data using pyball, even for a single season made it impossible to use in the timeframe, will be developing and running that for just the 2019-20 season to see if it will help"
   ]
  },
  {
   "cell_type": "code",
   "execution_count": null,
   "metadata": {},
   "outputs": [],
   "source": []
  },
  {
   "cell_type": "markdown",
   "metadata": {},
   "source": [
    "# Cleaning the NBA shot charts to the amount of made shots for each shooting location"
   ]
  },
  {
   "cell_type": "markdown",
   "metadata": {},
   "source": [
    "## Messing with the data to try and get an idea of court locations"
   ]
  },
  {
   "cell_type": "code",
   "execution_count": 5,
   "metadata": {},
   "outputs": [
    {
     "data": {
      "text/plain": [
       "array(['Restricted Area', 'Right Corner 3', 'In The Paint (Non-RA)',\n",
       "       'Left Corner 3', 'Mid-Range', 'Above the Break 3', 'Backcourt'],\n",
       "      dtype=object)"
      ]
     },
     "execution_count": 5,
     "metadata": {},
     "output_type": "execute_result"
    }
   ],
   "source": [
    "# looking at all the unique shot locations\n",
    "\n",
    "all_seasons.SHOT_ZONE_BASIC.unique()"
   ]
  },
  {
   "cell_type": "markdown",
   "metadata": {},
   "source": [
    "For x and y location, 10 units in the LOC_X or LOC_Y value is equal to 1 ft on the court. \n",
    "\n",
    "-250, -50 = left corner\n",
    "\n",
    "250, -50 = right corner\n",
    "\n",
    "0, 238 = top of the key (any value for LOC_Y that is 238 or higher would be great)\n",
    "\n",
    "Shot Areas: \n",
    "\n",
    "### 3 Pointers\n",
    "\n",
    "X(-250 to -220) & Y(-50 to 87) = left corner 3\n",
    "\n",
    "X(220 to 250) & Y(-50 to 87) = right corner 3\n",
    "\n",
    "X(-250 to -80) & Y(87 to 280) & Shot_zone(above the break) = left wing 3\n",
    "\n",
    "X(80 to 250) & Y(87 to 280) & Shot_zone(above the break) = right wing 3\n",
    "\n",
    "X(-80 to 80) and Y(87 to 280) & Shot_zone(above the break) = Center 3\n",
    "\n",
    "X(any) and Y(280 to 350) = Deep 3\n",
    "\n",
    "X(any) and Y(350+) = Heave\n",
    "\n",
    "### Mid Range \n",
    "\n",
    "X(-220 to -150) & Y(-50 to 90) = left baseline deep midrange\n",
    "\n",
    "X(150 to 220) & Y(-50 to 90) = right baseline deep midrange\n",
    "\n",
    "((X(-220 to 150) & Y(90+)) & (X(-150 to 80) & Y(150+))) & Shotzone(Mid-Range) = left wing deep mid ranger\n",
    "\n",
    "((X(150 to 220) & Y(90+)) & (X(80 to 150) & Y(150+))) & Shotzone(Mid-Range) = right wing deep mid ranger\n",
    "\n",
    "X(-150 to -80) & Y(-50 to 90) = short left baseline midranger\n",
    "\n",
    "X(80 to 150) & Y(-50 to 90) = short right baseline midranger\n",
    "\n",
    "X(-150 to -80) & Y(90 to 150) = short left wing mid ranger\n",
    "\n",
    "X(80 to 150) & Y(90 to 150) = short right wing mid ranger\n",
    "\n",
    "X(-80 to 80) & Y(210+) & Shotzone(Mid-Range) = deep center midranger\n",
    "\n",
    "X(-80 to 80) & Y(150 to 210) = short center midrange\n",
    "\n",
    "### Paint\n",
    "\n",
    "X(-80 to 80) & Y(90 to 150) = Floater\n",
    "\n",
    "X(-80 to 80) & Y(-50) & Shotzone(In The Paint (Non-RA)) = layup/in the paint\n",
    "\n",
    "Shotzone(restricted area) = restricted area"
   ]
  },
  {
   "cell_type": "code",
   "execution_count": null,
   "metadata": {},
   "outputs": [],
   "source": []
  },
  {
   "cell_type": "markdown",
   "metadata": {},
   "source": [
    "## Organizing the data and using the function to group the data in the format i am looking for"
   ]
  },
  {
   "cell_type": "code",
   "execution_count": 13,
   "metadata": {},
   "outputs": [],
   "source": [
    "# reset the index to be able to access the datetime again as a string to get the year for each player\n",
    "\n",
    "new_df = all_seasons.reset_index()"
   ]
  },
  {
   "cell_type": "code",
   "execution_count": 15,
   "metadata": {},
   "outputs": [],
   "source": [
    "# Creating a new df with just the players and the year they played as the index, only \n",
    "# included the player idin case it was necessary to concat into the future\n",
    "\n",
    "players_df = new_df.groupby('PLAYER_NAME')['PLAYER_ID'].mean().to_frame()\n"
   ]
  },
  {
   "cell_type": "code",
   "execution_count": null,
   "metadata": {},
   "outputs": [],
   "source": []
  },
  {
   "cell_type": "code",
   "execution_count": null,
   "metadata": {},
   "outputs": [],
   "source": []
  },
  {
   "cell_type": "code",
   "execution_count": 1,
   "metadata": {},
   "outputs": [],
   "source": [
    "# dataframe needs to be in the format of the shot chart data that is provided by the nba api\n",
    "\n",
    "from mod_5_functions import shooting_positions"
   ]
  },
  {
   "cell_type": "code",
   "execution_count": null,
   "metadata": {},
   "outputs": [],
   "source": [
    "# running the function which returns the amount of shots made for each player for each position, so i need to set\n",
    "# the output of the function to all of the different positions on the court\n",
    "\n",
    "left_corner_3, right_corner_3, left_wing_3, right_wing_3, center_3, deep_3,heave, left_baseline_deep_2, right_baseline_deep_2, left_wing_deep_2, right_wing_deep_2, left_baseline_short_2, right_baseline_short_2, left_wing_short_2, right_wing_short_2, deep_center_2, short_center_2, floater_range, in_the_paint, restricted_area = shooting_positions(new_df)\n"
   ]
  },
  {
   "cell_type": "code",
   "execution_count": 18,
   "metadata": {},
   "outputs": [],
   "source": [
    "# taking all of those values, as well as the player names and concating them to a single dataframe\n",
    "\n",
    "player_shot_profile = pd.concat([players_df, left_corner_3, right_corner_3, left_wing_3, right_wing_3, center_3,\n",
    "                                 deep_3,heave, left_baseline_deep_2, right_baseline_deep_2, left_wing_deep_2, \n",
    "                                 right_wing_deep_2, left_baseline_short_2, right_baseline_short_2, left_wing_short_2,\n",
    "                                 right_wing_short_2, deep_center_2, short_center_2, floater_range, in_the_paint, \n",
    "                                 restricted_area], axis = 1)\n",
    "\n"
   ]
  },
  {
   "cell_type": "code",
   "execution_count": 19,
   "metadata": {},
   "outputs": [],
   "source": [
    "# taking the na values, areas where players didnt have a single shot (big men and 3s) and replacing them with 0s\n",
    "\n",
    "player_shot_profile.fillna(0, inplace = True)"
   ]
  },
  {
   "cell_type": "code",
   "execution_count": 20,
   "metadata": {},
   "outputs": [],
   "source": [
    "# saving it to a csv file\n",
    "\n",
    "player_shot_profile.to_csv('csv_files/Shot_Profiles.csv')"
   ]
  },
  {
   "cell_type": "code",
   "execution_count": null,
   "metadata": {},
   "outputs": [],
   "source": []
  },
  {
   "cell_type": "code",
   "execution_count": null,
   "metadata": {},
   "outputs": [],
   "source": []
  },
  {
   "cell_type": "markdown",
   "metadata": {},
   "source": [
    "## Gathering remaining data from Basketball Reference\n",
    "\n",
    "#### NBA api did not have a clean method to get the basic stats that are readily available on the basketball reference api. This led to some issues as the names of the foreign players do not match exactly with basketball reference having the letters with accents while the nba api doesnt but its worth losing some data points for the data i get from the basketball reference api."
   ]
  },
  {
   "cell_type": "code",
   "execution_count": null,
   "metadata": {},
   "outputs": [],
   "source": []
  },
  {
   "cell_type": "code",
   "execution_count": 42,
   "metadata": {},
   "outputs": [
    {
     "data": {
      "text/plain": [
       "Index(['Rk', 'Player', 'Pos', 'Age', 'Tm', 'G', 'GS', 'MP', 'FG', 'FGA', 'FG%',\n",
       "       '3P', '3PA', '3P%', '2P', '2PA', '2P%', 'eFG%', 'FT', 'FTA', 'FT%',\n",
       "       'ORB', 'DRB', 'TRB', 'AST', 'STL', 'BLK', 'TOV', 'PF', 'PTS'],\n",
       "      dtype='object')"
      ]
     },
     "execution_count": 42,
     "metadata": {},
     "output_type": "execute_result"
    }
   ],
   "source": [
    "# getting an idea of what the columns i am getting are\n",
    "\n",
    "pd.read_html('https://www.basketball-reference.com/leagues/NBA_2020_per_game.html')[0].drop_duplicates(keep = 'first').columns"
   ]
  },
  {
   "cell_type": "code",
   "execution_count": 43,
   "metadata": {},
   "outputs": [],
   "source": [
    "#getting a list of the seasons to iterate through\n",
    "\n",
    "seasons = ['2020', '2019', '2018', '2017', '2016', '2015', '2014', '2013',\n",
    "           '2012', '2011', '2010', '2009', '2008', '2007', '2006',\n",
    "           '2005', '2004', '2003', '2002', '2001', '2000']"
   ]
  },
  {
   "cell_type": "code",
   "execution_count": 44,
   "metadata": {},
   "outputs": [],
   "source": [
    "# creating an empty list to store all the dataframes for each year\n",
    "\n",
    "player_bio_list = []"
   ]
  },
  {
   "cell_type": "code",
   "execution_count": 45,
   "metadata": {},
   "outputs": [],
   "source": [
    "# iterating through each season and getting the full list of players for each game in that season, \n",
    "# also dropping all the unnecessary columns \n",
    "\n",
    "for season in seasons:\n",
    "    player_bios = pd.read_html('https://www.basketball-reference.com/leagues/NBA_{}_per_game.html'.format(season))[0].drop_duplicates(keep = 'first')\n",
    "    player_bios.drop(columns = ['Rk', 'Age', 'Tm', 'G', 'GS', 'MP', 'FG', 'FGA', 'FG%',\n",
    "       '3P', '3PA', '2P', '2PA', 'eFG%', 'FT', 'FTA', 'FT%',\n",
    "       'TRB'], inplace = True)\n",
    "    player_bio_list.append(player_bios)"
   ]
  },
  {
   "cell_type": "code",
   "execution_count": 46,
   "metadata": {},
   "outputs": [],
   "source": [
    "# concating all the dataframes in the list to a single dataframe\n",
    "\n",
    "player_bio = pd.concat(player_bio_list)"
   ]
  },
  {
   "cell_type": "code",
   "execution_count": 47,
   "metadata": {},
   "outputs": [],
   "source": [
    "# dropping every 20 rows which shows the column names again (from the website)\n",
    "player_bio = player_bio[player_bio['Player'] != 'Player']"
   ]
  },
  {
   "cell_type": "code",
   "execution_count": 48,
   "metadata": {},
   "outputs": [],
   "source": [
    "# changing all numberic values in the list from strings to ints/floats\n",
    "\n",
    "player_bio = player_bio.apply(pd.to_numeric, errors = 'ignore')"
   ]
  },
  {
   "cell_type": "code",
   "execution_count": null,
   "metadata": {},
   "outputs": [],
   "source": []
  },
  {
   "cell_type": "code",
   "execution_count": null,
   "metadata": {},
   "outputs": [],
   "source": []
  },
  {
   "cell_type": "code",
   "execution_count": 49,
   "metadata": {},
   "outputs": [],
   "source": [
    "# aggregating all the numeric valuesby the mean\n",
    "\n",
    "player_bio_agg = player_bio.groupby('Player').mean()"
   ]
  },
  {
   "cell_type": "code",
   "execution_count": null,
   "metadata": {},
   "outputs": [],
   "source": []
  },
  {
   "cell_type": "code",
   "execution_count": 50,
   "metadata": {},
   "outputs": [],
   "source": [
    "# function to find the most common item in a list\n",
    "# this is for players who are labeled as different positions over the course of their careers, i am only taking the position \n",
    "# they were referred to the most out of any of them\n",
    "\n",
    "def most_frequent(List): \n",
    "    counter = 0\n",
    "    num = List[0] \n",
    "      \n",
    "    for i in List: \n",
    "        curr_frequency = List.count(i) \n",
    "        if(curr_frequency> counter): \n",
    "            counter = curr_frequency \n",
    "            num = i \n",
    "  \n",
    "    return num "
   ]
  },
  {
   "cell_type": "code",
   "execution_count": 51,
   "metadata": {},
   "outputs": [],
   "source": [
    "# aggregating all the positions into a single string seperated by commas\n",
    "\n",
    "player_bio_pos = (player_bio.groupby('Player')['Pos'].apply(lambda x: ', '.join(x))).to_frame()"
   ]
  },
  {
   "cell_type": "code",
   "execution_count": 52,
   "metadata": {},
   "outputs": [],
   "source": [
    "# looping through all the positions, turning them into a list with .split then using the function to find the most frequent\n",
    "\n",
    "player_bio_pos['Pos'] = [most_frequent(x.split(', ')) for x in player_bio_pos['Pos']]"
   ]
  },
  {
   "cell_type": "code",
   "execution_count": null,
   "metadata": {},
   "outputs": [],
   "source": []
  },
  {
   "cell_type": "code",
   "execution_count": 53,
   "metadata": {},
   "outputs": [],
   "source": [
    "# concating the 2 datframes\n",
    "\n",
    "player_bios = pd.concat([player_bio_pos, player_bio_agg], axis = 1)"
   ]
  },
  {
   "cell_type": "code",
   "execution_count": 54,
   "metadata": {},
   "outputs": [],
   "source": [
    "player_bios.reset_index(inplace = True)"
   ]
  },
  {
   "cell_type": "code",
   "execution_count": 55,
   "metadata": {},
   "outputs": [],
   "source": [
    "# to csv\n",
    "\n",
    "player_bios.to_csv('csv_files/Player_bios.csv')"
   ]
  },
  {
   "cell_type": "code",
   "execution_count": null,
   "metadata": {},
   "outputs": [],
   "source": []
  },
  {
   "cell_type": "markdown",
   "metadata": {},
   "source": [
    "## Cleaning up and combining the 2 data frames\n",
    "\n",
    "#### As stated in the basketball reference data gathering folder the names on these 2 dont match exactly, mostly for foreign players. so it is important to first clean up names and include some common foriegn characters as well as removing players so people like PJ Tucker (bbref) and P.J. Tucker (nba api) match. this is done using some basic regex code"
   ]
  },
  {
   "cell_type": "code",
   "execution_count": 56,
   "metadata": {},
   "outputs": [],
   "source": [
    "player_shot_profile = pd.read_csv('csv_files/Shot_Profiles.csv', index_col = 0)"
   ]
  },
  {
   "cell_type": "code",
   "execution_count": 57,
   "metadata": {},
   "outputs": [],
   "source": [
    "player_shot_profile.reset_index(inplace = True)"
   ]
  },
  {
   "cell_type": "code",
   "execution_count": 58,
   "metadata": {},
   "outputs": [],
   "source": [
    "# renaming the column for player names to match that of the basketball reference page\n",
    "\n",
    "player_shot_profile.rename(columns = {'index': 'Player'}, inplace = True)"
   ]
  },
  {
   "cell_type": "code",
   "execution_count": null,
   "metadata": {},
   "outputs": [],
   "source": []
  },
  {
   "cell_type": "code",
   "execution_count": 59,
   "metadata": {},
   "outputs": [],
   "source": [
    "# applying the cleaning for both of the dataframes.\n",
    "# the punctuation replacment is for both, the special characters are mostly for the basketball reference players\n",
    "\n",
    "def clean_names(name):\n",
    "    name = re.sub('[%s]' % re.escape(string.punctuation), '', name)\n",
    "    name = re.sub('ć', 'c', name)\n",
    "    name = re.sub('Ć', 'C', name)\n",
    "    name = re.sub('Ž', 'Z', name)\n",
    "    name = re.sub('č', 'c', name)\n",
    "    name = re.sub('Č', 'C', name)\n",
    "    return name\n",
    "\n",
    "# creating an object that applys the cleaning function to all of the rows of a column instead of on the column\n",
    "cleaning = lambda x: clean_names(x)"
   ]
  },
  {
   "cell_type": "code",
   "execution_count": 60,
   "metadata": {},
   "outputs": [],
   "source": [
    "# applying the cleaner to both the shot charts from nba_api an\n",
    "\n",
    "player_shot_profile['Player'] = pd.DataFrame(player_shot_profile.Player.apply(cleaning))\n",
    "player_bios['Player'] = pd.DataFrame(player_bios.Player.apply(cleaning))"
   ]
  },
  {
   "cell_type": "code",
   "execution_count": null,
   "metadata": {},
   "outputs": [],
   "source": []
  },
  {
   "cell_type": "code",
   "execution_count": 61,
   "metadata": {},
   "outputs": [],
   "source": [
    "# merging the 2 dataframes on the player column \n",
    "\n",
    "finalized_df = pd.merge(player_shot_profile, player_bios, on = 'Player')"
   ]
  },
  {
   "cell_type": "code",
   "execution_count": 64,
   "metadata": {
    "scrolled": true
   },
   "outputs": [],
   "source": [
    "finalized_df.fillna(0, inplace = True)"
   ]
  },
  {
   "cell_type": "code",
   "execution_count": 65,
   "metadata": {
    "scrolled": true
   },
   "outputs": [],
   "source": [
    "# saving as the final dataframe to use for eda and modeling\n",
    "\n",
    "finalized_df.to_csv('csv_files/Final_df.csv')"
   ]
  },
  {
   "cell_type": "code",
   "execution_count": null,
   "metadata": {},
   "outputs": [],
   "source": []
  }
 ],
 "metadata": {
  "kernelspec": {
   "display_name": "Python 3",
   "language": "python",
   "name": "python3"
  },
  "language_info": {
   "codemirror_mode": {
    "name": "ipython",
    "version": 3
   },
   "file_extension": ".py",
   "mimetype": "text/x-python",
   "name": "python",
   "nbconvert_exporter": "python",
   "pygments_lexer": "ipython3",
   "version": "3.7.6"
  }
 },
 "nbformat": 4,
 "nbformat_minor": 4
}
